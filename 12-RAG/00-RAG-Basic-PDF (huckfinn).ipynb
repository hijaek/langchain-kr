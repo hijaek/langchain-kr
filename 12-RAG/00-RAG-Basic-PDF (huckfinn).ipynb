{
 "cells": [
  {
   "cell_type": "markdown",
   "id": "6b82288e",
   "metadata": {},
   "source": [
    "# RAG 기본 구조 이해하기\n",
    "\n",
    "## 1. 사전작업(Pre-processing) - 1~4 단계\n",
    "\n",
    "![rag-1.png](./assets/rag-1.png)\n",
    "\n",
    "![rag-1-graphic](./assets/rag-graphic-1.png)\n",
    "\n",
    "사전 작업 단계에서는 데이터 소스를 Vector DB (저장소) 에 문서를 로드-분할-임베딩-저장 하는 4단계를 진행합니다.\n",
    "\n",
    "- 1단계 문서로드(Document Load): 문서 내용을 불러옵니다.\n",
    "- 2단계 분할(Text Split): 문서를 특정 기준(Chunk) 으로 분할합니다.\n",
    "- 3단계 임베딩(Embedding): 분할된(Chunk) 를 임베딩하여 저장합니다.\n",
    "- 4단계 벡터DB 저장: 임베딩된 Chunk 를 DB에 저장합니다.\n",
    "\n",
    "## 2. RAG 수행(RunTime) - 5~8 단계\n",
    "\n",
    "![rag-2.png](./assets/rag-2.png)\n",
    "\n",
    "![](./assets/rag-graphic-2.png)\n",
    "\n",
    "- 5단계 검색기(Retriever): 쿼리(Query) 를 바탕으로 DB에서 검색하여 결과를 가져오기 위하여 리트리버를 정의합니다. 리트리버는 검색 알고리즘이며(Dense, Sparse) 리트리버로 나뉘게 됩니다. Dense: 유사도 기반 검색, Sparse: 키워드 기반 검색\n",
    "- 6단계 프롬프트: RAG 를 수행하기 위한 프롬프트를 생성합니다. 프롬프트의 context 에는 문서에서 검색된 내용이 입력됩니다. 프롬프트 엔지니어링을 통하여 답변의 형식을 지정할 수 있습니다.\n",
    "- 7단계 LLM: 모델을 정의합니다.(GPT-3.5, GPT-4, Claude, etc..)\n",
    "- 8단계 Chain: 프롬프트 - LLM - 출력 에 이르는 체인을 생성합니다."
   ]
  },
  {
   "cell_type": "markdown",
   "id": "1cf05522",
   "metadata": {},
   "source": [
    "## 실습에 활용한 문서\n",
    "\n",
    "소프트웨어정책연구소(SPRi) - 2023년 12월호\n",
    "\n",
    "- 저자: 유재흥(AI정책연구실 책임연구원), 이지수(AI정책연구실 위촉연구원)\n",
    "- 링크: https://spri.kr/posts/view/23669\n",
    "- 파일명: `SPRI_AI_Brief_2023년12월호_F.pdf`\n",
    "\n",
    "_실습을 위해 다운로드 받은 파일을 `data` 폴더로 복사해 주시기 바랍니다_\n"
   ]
  },
  {
   "cell_type": "markdown",
   "id": "01c423a8",
   "metadata": {},
   "source": [
    "## 환경설정\n"
   ]
  },
  {
   "cell_type": "markdown",
   "id": "a224fd32",
   "metadata": {},
   "source": [
    "API KEY 를 설정합니다.\n"
   ]
  },
  {
   "cell_type": "code",
   "execution_count": 1,
   "id": "418ab505",
   "metadata": {},
   "outputs": [
    {
     "data": {
      "text/plain": [
       "True"
      ]
     },
     "execution_count": 1,
     "metadata": {},
     "output_type": "execute_result"
    }
   ],
   "source": [
    "# API 키를 환경변수로 관리하기 위한 설정 파일\n",
    "from dotenv import load_dotenv\n",
    "\n",
    "# API 키 정보 로드\n",
    "load_dotenv()"
   ]
  },
  {
   "cell_type": "markdown",
   "id": "0024d0c5",
   "metadata": {},
   "source": [
    "LangChain으로 구축한 애플리케이션은 여러 단계에 걸쳐 LLM 호출을 여러 번 사용하게 됩니다. 이러한 애플리케이션이 점점 더 복잡해짐에 따라, 체인이나 에이전트 내부에서 정확히 무슨 일이 일어나고 있는지 조사할 수 있는 능력이 매우 중요해집니다. 이를 위한 최선의 방법은 [LangSmith](https://smith.langchain.com)를 사용하는 것입니다.\n",
    "\n",
    "LangSmith가 필수는 아니지만, 유용합니다. LangSmith를 사용하고 싶다면, 위의 링크에서 가입한 후, 로깅 추적을 시작하기 위해 환경 변수를 설정해야 합니다.\n"
   ]
  },
  {
   "cell_type": "code",
   "execution_count": 2,
   "id": "3edbbf89",
   "metadata": {},
   "outputs": [
    {
     "name": "stdout",
     "output_type": "stream",
     "text": [
      "LangChain/LangSmith API Key가 설정되지 않았습니다. 참고: https://wikidocs.net/250954\n"
     ]
    }
   ],
   "source": [
    "# LangSmith 추적을 설정합니다. https://smith.langchain.com\n",
    "# !pip install -qU langchain-teddynote\n",
    "from langchain_teddynote import logging\n",
    "\n",
    "# 프로젝트 이름을 입력합니다.\n",
    "logging.langsmith(\"CH12-RAG\")"
   ]
  },
  {
   "cell_type": "markdown",
   "id": "9b0d050a",
   "metadata": {},
   "source": [
    "## RAG 기본 파이프라인(1~8단계)\n"
   ]
  },
  {
   "cell_type": "code",
   "execution_count": 3,
   "id": "f3d1b0fc",
   "metadata": {},
   "outputs": [],
   "source": [
    "from langchain_text_splitters import RecursiveCharacterTextSplitter\n",
    "from langchain_experimental.text_splitter import SemanticChunker\n",
    "from langchain_community.document_loaders import PyMuPDFLoader\n",
    "from langchain_community.vectorstores import FAISS\n",
    "from langchain_core.output_parsers import StrOutputParser\n",
    "from langchain_core.runnables import RunnablePassthrough\n",
    "from langchain_core.prompts import PromptTemplate\n",
    "from langchain_openai import ChatOpenAI, OpenAIEmbeddings\n",
    "\n",
    "import os  # For environment variables\n",
    "import json  # For JSON operations\n",
    "import chromadb  # For vector database operations\n",
    "from chromadb.utils import embedding_functions  # For creating embedding functions\n"
   ]
  },
  {
   "cell_type": "markdown",
   "id": "48e783c4",
   "metadata": {},
   "source": [
    "아래는 기본적인 RAG 구조 이해를 위한 뼈대코드(skeleton code) 입니다.\n",
    "\n",
    "각 단계별 모듈의 내용을 앞으로 상황에 맞게 변경하면서 문서에 적합한 구조를 찾아갈 수 있습니다.\n",
    "\n",
    "(각 단계별로 다양한 옵션을 설정하거나 새로운 기법을 적용할 수 있습니다.)"
   ]
  },
  {
   "cell_type": "code",
   "execution_count": 11,
   "id": "377894c9",
   "metadata": {},
   "outputs": [
    {
     "name": "stdout",
     "output_type": "stream",
     "text": [
      "문서의 페이지수: 303\n"
     ]
    }
   ],
   "source": [
    "# 단계 1: 문서 로드(Load Documents)\n",
    "loader = PyMuPDFLoader(\"data/HuckFinn.pdf\")\n",
    "docs = loader.load()\n",
    "print(f\"문서의 페이지수: {len(docs)}\")"
   ]
  },
  {
   "cell_type": "code",
   "execution_count": 12,
   "id": "ddf0d7c7",
   "metadata": {},
   "outputs": [
    {
     "name": "stdout",
     "output_type": "stream",
     "text": [
      "easy in its grave, and has to go about that way every night grieving. I\n",
      "got so down-hearted and scared I did wish I had some company.\n",
      "Pretty soon a spider went crawling up my shoulder, and I ﬂipped it\n",
      "off and it lit in the candle; and before I could budge it was all shriv-\n",
      "eled up. I didn’t need anybody to tell me that that was an awful bad\n",
      "sign and would fetch me some bad luck, so I was scared and most\n",
      "shook the clothes off of me. I got up and turned around in my tracks\n",
      "three times and crossed my breast every time; and then I tied up a lit-\n",
      "tle lock of my hair with a thread to keep witches away. But I hadn’t\n",
      "no conﬁdence.  You do that when you’ve lost a horseshoe that you’ve\n",
      "found, instead of nailing it up over the door, but I hadn’t ever heard\n",
      "anybody say it was any way to keep off bad luck when you’d killed a\n",
      "spider.\n",
      "I set down again, a-shaking all over, and got out my pipe for a\n",
      "smoke; for the house was all as still as death now, and so the widow\n",
      "wouldn’t know. Well, after a long time I heard the clock away off in\n",
      "the town go boom—boom—boom—twelve licks; and all still\n",
      "again—stiller than ever. Pretty soon I heard a twig snap down in the\n",
      "dark amongst the trees—something was a stirring. I set still and lis-\n",
      "tened.  Directly I could just barely hear a “me-yow! me-yow!” down\n",
      "there. That was good! Says I, “me-yow! me-yow!” as soft as I could,\n",
      "and then I put out the light and scrambled out of the window on to\n",
      "the shed. Then I slipped down to the ground and crawled in among\n",
      "the trees, and, sure enough, there was Tom Sawyer waiting for me.\n",
      "H\n",
      "U\n",
      "C\n",
      "K\n",
      "L\n",
      "E\n",
      "B\n",
      "E\n",
      "R\n",
      "R\n",
      "Y\n",
      " \n",
      "F\n",
      "I\n",
      "N\n",
      "N\n",
      "4\n"
     ]
    }
   ],
   "source": [
    "print(docs[10].page_content)"
   ]
  },
  {
   "cell_type": "markdown",
   "id": "a7e2963b",
   "metadata": {},
   "source": [
    "`metadata` 를 확인합니다."
   ]
  },
  {
   "cell_type": "code",
   "execution_count": 32,
   "id": "76383721",
   "metadata": {},
   "outputs": [],
   "source": [
    "\n",
    "# 단계 2.1: 문서 분할(Split Documents)\n",
    "\n",
    "chunk_size_n = 4000\n",
    "chunk_overlap_n = 800\n",
    "\n",
    "text_splitter = RecursiveCharacterTextSplitter(\n",
    "    separators=[\"\\n\\n\", \"\\n\", \".\", \",\"],\n",
    "    chunk_size=chunk_size_n,\n",
    "    chunk_overlap=chunk_overlap_n)\n",
    "split_documents = text_splitter.split_documents(docs)\n",
    "\n",
    "# 단계 2.2: 문서 분할(Split Documents) using semanticchunking\n",
    "\n",
    "# text_splitter = SemanticChunker(OpenAIEmbeddings(model = \"text-embedding-3-large\"))\n",
    "# split_documents = text_splitter.split_documents(docs) \n",
    "\n",
    "\n",
    "\n",
    "# Step 3: Embedding Gen\n",
    "\n",
    "embeddings = OpenAIEmbeddings(model = \"text-embedding-3-large\")\n",
    "# embedded_query = embeddings.embed_query('What was the name mentioned in the coversation?')\n",
    "# len(embedded_query)\n",
    "\n",
    "\n",
    "# Step 4: Create Vectorstore + save DB\n",
    "# 벡터스토어를 생성합니다.\n",
    "vectorstore = FAISS.from_documents(\n",
    "    documents=split_documents,\n",
    "    embedding=embeddings)\n",
    "\n",
    "\n",
    "# Step 5: Creating retriever\n",
    "# \"Retriever\" searches and gens based on the doc\n",
    "retriever = vectorstore.as_retriever()\n",
    "# testing the retriever and see which chunk was pulled.\n",
    "retriever.invoke(\"어린왕자가 네번째 별에서 만난사람은 누구야?\")\n",
    "\n",
    "\n",
    "# Step 6: Setting up the prompt\n",
    "prompt = PromptTemplate.from_template(\n",
    "    \"\"\"당신은 질문-답변(Question-Answering)을 수행하는 친절한 AI 어시스턴트입니다. 당신의 임무는 주어진 책(context) 에서 주어진 질문(question) 에 답하는 것입니다.\n",
    "우선적으로 검색된 다음 문맥(context) 만을 사용하여 질문(question) 에 답하세요. 문서에 직접적인 설명이없더라도, 문맥상으로 유추를 해보고 생각을 곁들여도 괜찮아. 그리고도 답을 모른다면 '잘 모르겠습니다' 라고 답하세요.\n",
    "한글로 답변해 주세요. 단, 기술적인 용어나 이름은 번역하지 않고 그대로 사용해 주세요.\n",
    "\n",
    "그리고, 당신은 당신의 지능에 대한 신뢰성을 보여주기위해, 문맥에 의지하는것처럼 보이는건 피해야합니다. '문맥상...'으로 문장을 시작하면 당신이 당신의 대답에 대해 책임을 회피하려는것처럼 보이므로 이를 피해야합니다.\n",
    "\n",
    "#Context:\n",
    "{context}\n",
    "\n",
    "#Question:\n",
    "{question}\n",
    "\n",
    "#Answer:\"\"\"\n",
    ")\n",
    "\n",
    "\n",
    "# Step 7: Create LLM model\n",
    "llm = ChatOpenAI(model_name=\"gpt-4.1-2025-04-14\", temperature=0)\n",
    "\n",
    "\n",
    "# Step 8: Create Chain\n",
    "chain = (\n",
    "    {\"context\": retriever, \"question\": RunnablePassthrough()}\n",
    "    | prompt\n",
    "    | llm\n",
    "    | StrOutputParser()\n",
    ")"
   ]
  },
  {
   "cell_type": "markdown",
   "id": "df99ceac",
   "metadata": {},
   "source": [
    "## chunk version. 2000, 300. embedding model = \"text-embedding-3-small\""
   ]
  },
  {
   "cell_type": "code",
   "execution_count": 19,
   "id": "50d6b7f0",
   "metadata": {},
   "outputs": [
    {
     "name": "stdout",
     "output_type": "stream",
     "text": [
      "hard chunk ver. small embedding model\n",
      "chunk size: 2000\n",
      "overlap size: 300\n",
      "number of chunks: 474\n",
      "number saved in vecstoredb: 474\n",
      "\n",
      "Question1:\n",
      "주요 등장인물들을 알려줘\n",
      " \n",
      "Response1:\n",
      "주요 등장인물들은 다음과 같습니다.\n",
      "\n",
      "- Huck (Huckleberry Finn): 이야기의 주인공.\n",
      "- Jim: Huck과 함께 여행하는 도망 노예.\n",
      "- The King과 The Duke: 사기꾼 두 명으로, Huck과 Jim과 함께 다니며 여러 사기를 벌임.\n",
      "- Buck: Huck이 만나는 소년.\n",
      "- Bob과 Tom: Buck의 형들.\n",
      "- Miss Charlotte: Buck의 누나, 25세.\n",
      "- Miss Sophia: Buck의 또 다른 누나, 20세.\n",
      "- The old gentleman: Buck 가족의 가장, 여러 농장과 많은 노예를 소유함.\n",
      "\n",
      "이 외에도 다양한 인물들이 등장하지만, 위 인물들이 주요 등장인물입니다.\n",
      "\n",
      "Question2:\n",
      "한문단으로 내용요약을 해줘. 책을 읽어보지않은사람에게 흥미를 일으킬수있도록 아주 흥미진진하게 내용을 소개하는 느낌으로 써줘\n",
      " \n",
      "Response2:\n",
      "『The Adventures of Huckleberry Finn』은 자유분방한 소년 Huck과 도망 노예 Jim이 미시시피 강을 따라 뗏목을 타고 모험을 떠나는 이야기입니다. 이들은 각양각색의 인물들과 기상천외한 사건들을 겪으며, 속임수꾼들과의 아슬아슬한 만남, 시골 마을의 독특한 풍경, 그리고 인간의 본성과 자유에 대한 깊은 질문에 맞닥뜨립니다. Mark Twain 특유의 유머와 생생한 방언, 그리고 미국 남부의 진한 분위기가 어우러져, 한 번 읽기 시작하면 멈출 수 없는 흥미진진한 모험담이 펼쳐집니다.\n",
      "\n",
      "Question3:\n",
      "세문단으로 내용요약을 해줘. 기술적으로 사실에 근거해서 책의 모든 내용을 정확하게 요약해야해\n",
      " \n",
      "Response3:\n",
      "『The Adventures of Huckleberry Finn』은 미시시피 강을 배경으로 한 소년 Huck Finn의 모험을 그린 소설이다. Huck은 알코올 중독자인 아버지로부터 도망치고, 노예 Jim과 함께 자유를 찾아 강을 따라 내려가며 다양한 인물과 사건을 겪는다. 이 과정에서 Huck은 사회의 위선, 인종차별, 도덕적 딜레마에 직면하고, 자신의 양심과 사회적 규범 사이에서 갈등한다.\n",
      "\n",
      "소설은 여러 지역의 방언과 다양한 인물들의 언어를 사실적으로 묘사하여, 19세기 미국 남부의 사회상을 생생하게 보여준다. Huck과 Jim은 도망 중에 사기꾼, 가족 간의 불화, 거짓 신분 등 여러 위기를 겪으며 서로에 대한 신뢰와 우정을 쌓아간다. 특히 Huck은 Jim을 도와주면서 점차 기존의 도덕관념을 넘어서는 인간적인 결정을 내리게 된다.\n",
      "\n",
      "결국 Huck과 Jim은 각자의 자유를 얻기 위해 여러 난관을 극복한다. 마지막에는 Jim이 자유의 몸이 되고, Huck은 문명화된 사회로 돌아가는 것을 거부하며 새로운 모험을 찾아 나선다. 이 작품은 미국 문학에서 중요한 위치를 차지하며, 성장, 자유, 인종 문제 등 다양한 주제를 깊이 있게 다룬다.\n",
      "\n",
      "Question4:\n",
      "주인공이 멋진 이유가 뭘까?\n",
      " \n",
      "Response4:\n",
      "주인공이 멋진 이유는, 그가 다양한 상황에서 사람들의 성격과 행동을 잘 관찰하고, 진실을 꿰뚫어보는 통찰력을 가지고 있기 때문입니다. 예를 들어, Col. Grangerford와 같은 인물의 외모와 태도, 그리고 그가 주변 사람들에게 미치는 영향까지 세심하게 묘사합니다. 또, 사람들의 허세나 겉모습에 속지 않고, 실제로 그들이 어떤 사람인지 파악하려고 노력합니다. 이런 점에서 주인공은 단순히 사건에 휘말리는 것이 아니라, 스스로 생각하고 판단하는 능동적인 인물로 그려집니다. 이러한 관찰력과 솔직함, 그리고 때로는 유머러스하게 상황을 받아들이는 태도가 주인공을 멋지게 만듭니다.\n"
     ]
    }
   ],
   "source": [
    "## chunk version. 2000, 400. embedding model = \"text-embedding-3-large\"\n",
    "\n",
    "# Run Chain\n",
    "print(\"hard chunk ver. small embedding model\")\n",
    "print(f\"chunk size: {chunk_size_n}\")\n",
    "print(f\"overlap size: {chunk_overlap_n}\")\n",
    "print(f\"number of chunks: {len(split_documents)}\")\n",
    "print(f\"number saved in vecstoredb: {vectorstore.index.ntotal}\")\n",
    "\n",
    "\n",
    "question1 = \"주요 등장인물들을 알려줘\"\n",
    "response1 = chain.invoke(question1)\n",
    "print(f\"\\nQuestion1:\\n{question1}\\n\", \n",
    "      f\"\\nResponse1:\\n{response1}\")\n",
    "\n",
    "question2 = \"한문단으로 내용요약을 해줘. 책을 읽어보지않은사람에게 흥미를 일으킬수있도록 아주 흥미진진하게 내용을 소개하는 느낌으로 써줘\"\n",
    "response2 = chain.invoke(question2)\n",
    "print(f\"\\nQuestion2:\\n{question2}\\n\",\n",
    "      f\"\\nResponse2:\\n{response2}\")\n",
    "\n",
    "question3 = \"세문단으로 내용요약을 해줘. 기술적으로 사실에 근거해서 책의 모든 내용을 정확하게 요약해야해\"\n",
    "response3 = chain.invoke(question3)\n",
    "print(f\"\\nQuestion3:\\n{question3}\\n\",\n",
    "      f\"\\nResponse3:\\n{response3}\")\n",
    "\n",
    "question4 = \"주인공이 멋진 이유가 뭘까?\"\n",
    "response4 = chain.invoke(question4)\n",
    "print(f\"\\nQuestion4:\\n{question4}\\n\",\n",
    "      f\"\\nResponse4:\\n{response4}\")"
   ]
  },
  {
   "cell_type": "code",
   "execution_count": 34,
   "id": "b665d52d",
   "metadata": {},
   "outputs": [
    {
     "name": "stdout",
     "output_type": "stream",
     "text": [
      "\n",
      "Question3:\n",
      "summarize the story by each chapter\n",
      " \n",
      "Response3:\n",
      "제공된 문맥에는 『The Adventures of Huckleberry Finn』의 각 장별 제목이나 구체적인 줄거리는 포함되어 있지 않습니다. 다만, 목차를 통해 각 장의 순서와 페이지 수만 확인할 수 있습니다. 따라서 각 장의 내용을 요약해서 설명드릴 수는 없습니다.\n",
      "\n",
      "잘 모르겠습니다.\n"
     ]
    }
   ],
   "source": [
    "question3 = \"summarize the story by each chapter\"\n",
    "response3 = chain.invoke(question3)\n",
    "print(f\"\\nQuestion3:\\n{question3}\\n\",\n",
    "      f\"\\nResponse3:\\n{response3}\")"
   ]
  },
  {
   "cell_type": "markdown",
   "id": "a8bef24a",
   "metadata": {},
   "source": [
    "## chunk version. 2000, 400. embedding model = \"text-embedding-3-large\""
   ]
  },
  {
   "cell_type": "code",
   "execution_count": 356,
   "id": "001e81b2",
   "metadata": {},
   "outputs": [
    {
     "name": "stdout",
     "output_type": "stream",
     "text": [
      "hard chunk ver. large embedding model\n",
      "chunk size: 2000\n",
      "overlap size: 400\n",
      "number of chunks: 43\n",
      "number saved in vecstoredb: 43\n",
      "\n",
      "Question1:\n",
      "주인공이 각각의 별에서 만난사람들을 나열해줘\n",
      " \n",
      "Response1:\n",
      "주인공인 어린 왕자가 각각의 별에서 만난 사람들은 다음과 같습니다.\n",
      "\n",
      "1. 첫 번째 별: 왕\n",
      "2. 두 번째 별: 허영심 많은 사람(허영심쟁이)\n",
      "3. 세 번째 별: 술꾼\n",
      "4. 네 번째 별: 사업가(장사꾼)\n",
      "5. 다섯 번째 별: 가로등을 켜는 사람(불 키는 사람)\n",
      "6. 여섯 번째 별: 지리학자\n",
      "7. 일곱 번째 별(지구): 여러 사람들을 만났지만, 처음에는 뱀을 만남\n",
      "\n",
      "이렇게 어린 왕자는 각 별에서 다양한 어른들을 차례로 만나게 됩니다.\n",
      "\n",
      "Question2:\n",
      "주인공이 도착한 두 번째 별에선 누굴 만났고, 그사람한테 느낀 감정이 어땠어?\n",
      " \n",
      "Response2:\n",
      "주인공인 어린 왕자는 두 번째 별에서 허영심쟁이를 만났어. 허영심쟁이는 자신을 찬미해주길 바라는 사람이었지. 어린 왕자는 처음에는 허영심쟁이의 행동이 재미있다고 생각했지만, 곧 그 놀이가 무료해졌고, 허영심쟁이가 칭찬의 말 외에는 아무 말도 듣지 않는다는 사실에 실망했어. 그래서 결국 \"어른들은 정말 별나다니깐.\"이라고 생각하며 그 별을 떠났어.\n",
      "\n",
      "Question3:\n",
      "주인공이 별들에서 만난사람중 가장 싫어하는 인물은 누구라고 생각해?\n",
      " \n",
      "Response3:\n",
      "어린 왕자가 별들에서 만난 사람들 중에서 가장 싫어하는 인물은 장사꾼일 가능성이 높아 보입니다. 어린 왕자는 장사꾼과의 대화에서 별을 소유한다는 개념이나, 별을 단순히 숫자로 세고 종이에 적어두는 행위, 그리고 그것을 부의 상징으로 여기는 태도에 대해 전혀 만족스럽지 못해하고, 이해하지 못합니다. 어린 왕자는 장사꾼을 술꾼과 비슷하다고 속으로 생각하기도 하고, 어른들의 이런 사고방식이 괴상하다고 느낍니다. 또한, 장사꾼과의 대화가 끝난 뒤 곧바로 그곳을 떠나고 싶어하는 모습을 보입니다.\n",
      "\n",
      "반면, 불 키는 사람에 대해서는 \"왕이나, 허영심쟁이, 술꾼, 장사꾼들보다 덜 어리석다\"고 평가하며, 오히려 성실함을 사랑스럽게 여기고, 그를 우스꽝스럽지 않다고 생각합니다.\n",
      "\n",
      "따라서 어린 왕자가 별들에서 만난 인물들 중 가장 싫어하는 사람은 장사꾼이라고 볼 수 있습니다.\n",
      "\n",
      "Question4:\n",
      "주인공이 두번째 별을 떠난 이유가 뭐라고 생각해?\n",
      " \n",
      "Response4:\n",
      "주인공인 어린 왕자가 두 번째 별을 떠난 이유는, 그 별에 있던 장사꾼과의 대화에서 만족을 느끼지 못했기 때문이라고 볼 수 있습니다. 장사꾼은 별들을 소유하고 있다고 주장하지만, 실제로 별들을 어떻게 활용하는지, 별들이 어떤 의미가 있는지에 대해 어린 왕자가 납득할 만한 답을 주지 못합니다. 어린 왕자는 자신이 소유한 꽃이나 화산처럼 실제로 돌보고 쓸모가 있는 것과 달리, 장사꾼이 별들을 소유한다는 것이 아무런 유용함도 없다는 점에 의문을 품고 실망합니다. 결국 어린 왕자는 어른들의 사고방식이 이해되지 않고, 진실되지 않다고 느껴 그곳을 떠나게 됩니다.\n"
     ]
    }
   ],
   "source": [
    "\n",
    "# Run Chain\n",
    "print(\"hard chunk ver. large embedding model\")\n",
    "print(f\"chunk size: {chunk_size_n}\")\n",
    "print(f\"overlap size: {chunk_overlap_n}\")\n",
    "print(f\"number of chunks: {len(split_documents)}\")\n",
    "print(f\"number saved in vecstoredb: {vectorstore.index.ntotal}\")\n",
    "\n",
    "\n",
    "question1 = \"주인공이 각각의 별에서 만난사람들을 나열해줘\"\n",
    "response1 = chain.invoke(question1)\n",
    "print(f\"\\nQuestion1:\\n{question1}\\n\", \n",
    "      f\"\\nResponse1:\\n{response1}\")\n",
    "\n",
    "question2 = \"주인공이 도착한 두 번째 별에선 누굴 만났고, 그사람한테 느낀 감정이 어땠어?\"\n",
    "response2 = chain.invoke(question2)\n",
    "print(f\"\\nQuestion2:\\n{question2}\\n\",\n",
    "      f\"\\nResponse2:\\n{response2}\")\n",
    "\n",
    "question3 = \"주인공이 별들에서 만난사람중 가장 싫어하는 인물은 누구라고 생각해?\"\n",
    "response3 = chain.invoke(question3)\n",
    "print(f\"\\nQuestion3:\\n{question3}\\n\",\n",
    "      f\"\\nResponse3:\\n{response3}\")\n",
    "\n",
    "question4 = \"주인공이 두번째 별을 떠난 이유가 뭐라고 생각해?\"\n",
    "response4 = chain.invoke(question4)\n",
    "print(f\"\\nQuestion4:\\n{question4}\\n\",\n",
    "      f\"\\nResponse4:\\n{response4}\")"
   ]
  },
  {
   "cell_type": "code",
   "execution_count": 374,
   "id": "2b0e669e",
   "metadata": {},
   "outputs": [
    {
     "name": "stdout",
     "output_type": "stream",
     "text": [
      "hard chunk ver. large embedding model\n",
      "chunk size: 2000\n",
      "overlap size: 200\n",
      "number of chunks: 43\n",
      "number saved in vecstoredb: 43\n",
      "\n",
      "Question1:\n",
      "주인공이 각각의 별에서 만난사람들을 나열해줘\n",
      " \n",
      "Response1:\n",
      "주인공인 어린 왕자가 각각의 별에서 만난 사람들은 다음과 같습니다.\n",
      "\n",
      "1. 첫 번째 별: 왕\n",
      "2. 두 번째 별: 허영심쟁이\n",
      "3. 세 번째 별: 술꾼\n",
      "4. 네 번째 별: 사업가(장사꾼)\n",
      "5. 다섯 번째 별: 가로등을 켜는 사람\n",
      "6. 여섯 번째 별: 지리학자\n",
      "7. 일곱 번째 별(지구): 여러 사람(뱀, 여우 등)과 만남\n",
      "\n",
      "이렇게 어린 왕자는 각 별에서 다양한 어른들을 만나게 됩니다.\n",
      "\n",
      "Question2:\n",
      "주인공이 도착한 두 번째 별에선 누굴 만났고, 그사람한테 느낀 감정이 어땠어?\n",
      " \n",
      "Response2:\n",
      "주인공인 어린 왕자는 두 번째 별에서 허영심쟁이를 만났어. 허영심쟁이는 자신을 칭찬해주고 찬미해주길 바라는 사람이었지. 어린 왕자는 처음에는 허영심쟁이의 행동이 재미있다고 생각했지만, 곧 그 놀이가 무료해졌고, 허영심쟁이가 칭찬 말 외에는 아무 말도 듣지 않는다는 사실에 실망했어. 그래서 결국 \"어른들은 정말 별나다니깐.\"이라고 생각하며 그 별을 떠났어. 어린 왕자는 허영심쟁이에 대해 이해하지 못하고, 어른들이 이상하다고 느꼈던 거야.\n",
      "\n",
      "Question3:\n",
      "주인공이 별들에서 만난사람중 가장 싫어하는 인물은 누구라고 생각해?\n",
      " \n",
      "Response3:\n",
      "어린 왕자가 별들에서 만난 사람들 중에서 가장 싫어하는 인물은 명확하게 \"누구\"라고 직접적으로 말하지는 않지만, 대화와 묘사를 통해 유추해볼 수 있습니다. 어린 왕자는 장사꾼, 왕, 허영심쟁이, 술꾼 등 어른들의 행동과 사고방식을 이해하지 못하고, 그들을 \"괴상하다\"거나 \"우스꽝스럽다\"고 생각합니다. 특히 장사꾼과의 대화에서는 별을 소유한다는 개념 자체를 이해하지 못하고, 장사꾼을 술꾼과 비슷하다고 속으로 생각하며 부정적으로 봅니다.\n",
      "\n",
      "또한, 불 키는 사람에 대해서는 \"왕이나, 허영심쟁이, 술꾼, 장사꾼보다 덜 하겠지\"라고 말하며, 오히려 그를 동정하고 호감을 보입니다.\n",
      "\n",
      "따라서 어린 왕자가 가장 싫어하는 인물은 장사꾼, 술꾼, 허영심쟁이, 왕 중 한 명일 수 있는데, 그 중에서도 장사꾼에 대해 가장 비판적이고, 대화가 끝난 후 \"어른들은 정말 다들 괴상해\"라고 생각하는 장면이 인상적입니다. 장사꾼은 별을 소유한다는 허황된 생각에 집착하고, 그 소유가 실제로 아무런 쓸모가 없다는 점에서 어린 왕자가 가장 이해하지 못하고 싫어하는 인물로 볼 수 있습니다.\n",
      "\n",
      "결론적으로, 어린 왕자가 별들에서 만난 사람 중 가장 싫어하는 인물은 장사꾼이라고 생각합니다.\n",
      "\n",
      "Question4:\n",
      "주인공이 두번째 별을 떠난 이유가 뭐라고 생각해?\n",
      " \n",
      "Response4:\n",
      "주인공인 어린 왕자가 두 번째 별을 떠난 이유는, 그곳에 있던 장사꾼의 사고방식과 대화가 만족스럽지 않았기 때문이라고 볼 수 있습니다. 장사꾼은 별들을 소유하고 있다고 주장하지만, 실제로 별들을 어떻게 활용하거나 의미 있게 다루지 않고, 단지 숫자를 세고 종이에 적어두는 것에만 집착합니다. 어린 왕자는 이런 어른들의 사고방식이 진실되게 느껴지지 않고, 별들을 소유한다는 것이 무의미하다고 생각합니다. 그래서 어린 왕자는 장사꾼과의 대화에서 실망을 느끼고, 그 별을 떠나게 된 것입니다.\n"
     ]
    }
   ],
   "source": [
    "\n",
    "# Run Chain\n",
    "print(\"hard chunk ver. large embedding model\")\n",
    "print(f\"chunk size: {chunk_size_n}\")\n",
    "print(f\"overlap size: {chunk_overlap_n}\")\n",
    "print(f\"number of chunks: {len(split_documents)}\")\n",
    "print(f\"number saved in vecstoredb: {vectorstore.index.ntotal}\")\n",
    "\n",
    "\n",
    "question1 = \"주인공이 각각의 별에서 만난사람들을 나열해줘\"\n",
    "response1 = chain.invoke(question1)\n",
    "print(f\"\\nQuestion1:\\n{question1}\\n\", \n",
    "      f\"\\nResponse1:\\n{response1}\")\n",
    "\n",
    "question2 = \"주인공이 도착한 두 번째 별에선 누굴 만났고, 그사람한테 느낀 감정이 어땠어?\"\n",
    "response2 = chain.invoke(question2)\n",
    "print(f\"\\nQuestion2:\\n{question2}\\n\",\n",
    "      f\"\\nResponse2:\\n{response2}\")\n",
    "\n",
    "question3 = \"주인공이 별들에서 만난사람중 가장 싫어하는 인물은 누구라고 생각해?\"\n",
    "response3 = chain.invoke(question3)\n",
    "print(f\"\\nQuestion3:\\n{question3}\\n\",\n",
    "      f\"\\nResponse3:\\n{response3}\")\n",
    "\n",
    "question4 = \"주인공이 두번째 별을 떠난 이유가 뭐라고 생각해?\"\n",
    "response4 = chain.invoke(question4)\n",
    "print(f\"\\nQuestion4:\\n{question4}\\n\",\n",
    "      f\"\\nResponse4:\\n{response4}\")"
   ]
  },
  {
   "cell_type": "code",
   "execution_count": 370,
   "id": "e836c7e4",
   "metadata": {},
   "outputs": [
    {
     "name": "stdout",
     "output_type": "stream",
     "text": [
      "\n",
      "Question4:\n",
      "어린왕자는 다섯번째별을 떠난 이유는 사람이 이해가 가지않아서가 아니고 공간의 제약때문 아니야?\n",
      " \n",
      "Response4:\n",
      "네, 맞습니다. 어린 왕자가 다섯 번째 별(불 키는 사람이 있는 별)을 떠난 주된 이유는 공간의 제약 때문입니다. 문서에 따르면, 어린 왕자는 \"그의 별은 정말 너무도 작아. 두 사람이 있을 공간도 없어...\"라고 말하며, 이별을 인정할 수밖에 없었다고 나와 있습니다. 즉, 불 키는 사람과 함께 있고 싶었지만, 별이 너무 작아서 두 사람이 함께 있을 수 없었기 때문에 떠나게 된 것입니다.\n"
     ]
    }
   ],
   "source": [
    "\n",
    "question4 = \"어린왕자는 다섯번째별을 떠난 이유는 사람이 이해가 가지않아서가 아니고 공간의 제약때문 아니야?\"\n",
    "response4 = chain.invoke(question4)\n",
    "print(f\"\\nQuestion4:\\n{question4}\\n\",\n",
    "      f\"\\nResponse4:\\n{response4}\")"
   ]
  },
  {
   "cell_type": "code",
   "execution_count": 371,
   "id": "7b6e421d",
   "metadata": {},
   "outputs": [
    {
     "name": "stdout",
     "output_type": "stream",
     "text": [
      "\n",
      "Question4:\n",
      "아까는 불키는 사람이 이해가 안가서 떠난거라며?\n",
      " \n",
      "Response4:\n",
      "아니요, 불 키는 사람을 떠난 이유는 그가 이해가 안 가서가 아니라, 불 키는 사람이 자신의 일에 성실하게 임하는 모습이 사랑스럽고, 그를 도와주고 싶었지만 결국 도움이 되지 못했기 때문입니다. 어린 왕자는 불 키는 사람을 우스꽝스럽게 여기지 않았고, 오히려 그를 좋아했습니다. 따라서 이해가 안 가서 떠난 것이 아니라, 더 이상 머물 이유가 없었기 때문에 떠난 것입니다.\n"
     ]
    }
   ],
   "source": [
    "\n",
    "question4 = \"아까는 불키는 사람이 이해가 안가서 떠난거라며?\"\n",
    "response4 = chain.invoke(question4)\n",
    "print(f\"\\nQuestion4:\\n{question4}\\n\",\n",
    "      f\"\\nResponse4:\\n{response4}\")"
   ]
  },
  {
   "cell_type": "markdown",
   "id": "2398a77e",
   "metadata": {},
   "source": [
    "## chunk version. 2000, 400. embedding model = \"text-embedding-3-small\""
   ]
  },
  {
   "cell_type": "code",
   "execution_count": null,
   "id": "86eb6b1c",
   "metadata": {},
   "outputs": [],
   "source": [
    "\n",
    "# Run Chain\n",
    "print(\"## chunk version. 2000, 400. embedding model = \"text-embedding-3-small\"\")\n",
    "print(f\"chunk size: {chunk_size_n}\")\n",
    "print(f\"overlap size: {chunk_overlap_n}\")\n",
    "print(f\"number of chunks: {len(split_documents)}\")\n",
    "print(f\"number saved in vecstoredb: {vectorstore.index.ntotal}\")\n",
    "\n",
    "\n",
    "question1 = \"주인공이 각각의 별에서 만난사람들을 나열해줘\"\n",
    "response1 = chain.invoke(question1)\n",
    "print(f\"\\nQuestion1:\\n{question1}\\n\", \n",
    "      f\"\\nResponse1:\\n{response1}\")\n",
    "\n",
    "question2 = \"주인공이 도착한 두 번째 별에선 누굴 만났고, 그사람한테 느낀 감정이 어땠어?\"\n",
    "response2 = chain.invoke(question2)\n",
    "print(f\"\\nQuestion2:\\n{question2}\\n\",\n",
    "      f\"\\nResponse2:\\n{response2}\")\n",
    "\n",
    "question3 = \"주인공이 별들에서 만난사람중 가장 싫어하는 인물은 누구라고 생각해?\"\n",
    "response3 = chain.invoke(question3)\n",
    "print(f\"\\nQuestion3:\\n{question3}\\n\",\n",
    "      f\"\\nResponse3:\\n{response3}\")\n",
    "\n",
    "question4 = \"주인공이 두번째 별을 떠난 이유가 뭐라고 생각해?\"\n",
    "response4 = chain.invoke(question4)\n",
    "print(f\"\\nQuestion4:\\n{question4}\\n\",\n",
    "      f\"\\nResponse4:\\n{response4}\")"
   ]
  },
  {
   "cell_type": "markdown",
   "id": "2c97669c",
   "metadata": {},
   "source": [
    "## chunk version. 500, 100. embedding model = \"text-embedding-3-small\""
   ]
  },
  {
   "cell_type": "code",
   "execution_count": 335,
   "id": "a6f08c6d",
   "metadata": {},
   "outputs": [
    {
     "name": "stdout",
     "output_type": "stream",
     "text": [
      "hard chunk ver\n",
      "chunk size: 500\n",
      "overlap size: 100\n",
      "number of chunks: 132\n",
      "number saved in vecstoredb: 132\n",
      "\n",
      "Question1:\n",
      "주인공이 각각의 별에서 만난사람들을 나열해줘\n",
      " \n",
      "Response1:\n",
      "문맥에 따르면, 주인공(어린 왕자)이 각각의 별에서 만난 사람들 중 일부는 다음과 같습니다.\n",
      "\n",
      "- 왕: 별을 소유하지 않고 통치만 하는 인물\n",
      "- 장사꾼(상인): 별을 소유하고 있다고 주장하며, 별을 통해 부자가 되려고 하는 인물\n",
      "- 술꾼: 장사꾼과 비슷하다고 어린 왕자가 언급함\n",
      "\n",
      "문맥에 직접적으로 언급된 인물은 위와 같으며, 다른 별에서 만난 인물에 대한 정보는 주어지지 않았습니다.\n",
      "\n",
      "Question2:\n",
      "주인공이 도착한 두 번째 별에선 누굴 만났고, 그사람한테 느낀 감정이 어땠어?\n",
      " \n",
      "Response2:\n",
      "주인공인 어린 왕자가 도착한 두 번째 별에선 왕을 만났어. 왕은 자주빛 옷과 가운을 입고 근엄하게 왕좌에 앉아 있었고, 어린 왕자를 보자마자 \"신하가 왔구먼!\"이라고 소리쳤지. 어린 왕자는 자신을 한 번도 본 적이 없으면서 다짜고짜 신하라고 부르는 왕을 보고 혼잣말로 \"나를 한 번도 본 적이 없으면서 다짜고짜 신하라니 참?\"이라고 말했어. 이로 보아 어린 왕자는 왕에 대해 어이없고 당황스러운 감정을 느꼈던 것 같아.\n",
      "\n",
      "Question3:\n",
      "주인공이 별들에서 만난사람중 가장 싫어하는 인물은 누구라고 생각해?\n",
      " \n",
      "Response3:\n",
      "주어진 문맥을 보면, 어린 왕자가 별들에서 만난 여러 인물 중 \"장사꾼\"에 대해 비판적으로 생각하는 부분이 나옵니다. 장사꾼은 별들을 소유하려 하고, 그 이유가 단지 자신을 부자로 만들어주기 때문이라고 말합니다. 어린 왕자는 속으로 \"술꾼과 비슷하시군\"이라고 생각하며, 장사꾼의 행동을 이해하지 못하고 비판적으로 바라봅니다.\n",
      "\n",
      "따라서 문맥상 어린 왕자가 별들에서 만난 사람 중 가장 싫어하는 인물은 \"장사꾼\"일 가능성이 높다고 생각합니다.\n",
      "\n",
      "Question4:\n",
      "주인공이 두번째 별을 떠난 이유가 뭐라고 생각해?\n",
      " \n",
      "Response4:\n",
      "문맥에 따르면, 두 번째 별에는 허영심쟁이가 살고 있었고, 그는 어린 왕자를 자신의 숭배자로 여기며 계속해서 자신을 찬미해주길 바랐습니다. 어린 왕자는 허영심쟁이의 행동이 왕보다 더 재밌다고 생각해서 손뼉을 계속 쳐주었지만, 허영심쟁이는 오직 자신만을 생각하고, 어린 왕자와 진정한 소통이나 교류를 하지 않았습니다.\n",
      "\n",
      "따라서 주인공이 두 번째 별을 떠난 이유는, 허영심쟁이가 자기 자신에게만 관심이 있고, 어린 왕자와 진정한 대화를 나눌 수 없었기 때문이라고 생각할 수 있습니다. 어린 왕자는 의미 있는 관계나 대화를 원했지만, 허영심쟁이와는 그런 교류가 불가능하다고 느꼈기 때문에 별을 떠난 것으로 보입니다.\n"
     ]
    }
   ],
   "source": [
    "\n",
    "# Run Chain\n",
    "print(\"hard chunk ver\")\n",
    "print(f\"chunk size: {chunk_size_n}\")\n",
    "print(f\"overlap size: {chunk_overlap_n}\")\n",
    "print(f\"number of chunks: {len(split_documents)}\")\n",
    "print(f\"number saved in vecstoredb: {vectorstore.index.ntotal}\")\n",
    "\n",
    "\n",
    "question1 = \"주인공이 각각의 별에서 만난사람들을 나열해줘\"\n",
    "response1 = chain.invoke(question1)\n",
    "print(f\"\\nQuestion1:\\n{question1}\\n\", \n",
    "      f\"\\nResponse1:\\n{response1}\")\n",
    "\n",
    "question2 = \"주인공이 도착한 두 번째 별에선 누굴 만났고, 그사람한테 느낀 감정이 어땠어?\"\n",
    "response2 = chain.invoke(question2)\n",
    "print(f\"\\nQuestion2:\\n{question2}\\n\",\n",
    "      f\"\\nResponse2:\\n{response2}\")\n",
    "\n",
    "question3 = \"주인공이 별들에서 만난사람중 가장 싫어하는 인물은 누구라고 생각해?\"\n",
    "response3 = chain.invoke(question3)\n",
    "print(f\"\\nQuestion3:\\n{question3}\\n\",\n",
    "      f\"\\nResponse3:\\n{response3}\")\n",
    "\n",
    "question4 = \"주인공이 두번째 별을 떠난 이유가 뭐라고 생각해?\"\n",
    "response4 = chain.invoke(question4)\n",
    "print(f\"\\nQuestion4:\\n{question4}\\n\",\n",
    "      f\"\\nResponse4:\\n{response4}\")"
   ]
  },
  {
   "cell_type": "markdown",
   "id": "a717931c",
   "metadata": {},
   "source": [
    "## text splitter semantic model = \"text-embedding-3-small\""
   ]
  },
  {
   "cell_type": "code",
   "execution_count": 340,
   "id": "16f62daf",
   "metadata": {},
   "outputs": [
    {
     "name": "stdout",
     "output_type": "stream",
     "text": [
      "semantic chunk ver\n",
      "\n",
      "Question1:\n",
      "주인공이 각각의 별에서 만난사람들을 나열해줘\n",
      " \n",
      "Response1:\n",
      "문맥에 따르면, 어린 왕자가 방문한 별들과 그곳에서 만난 사람들은 다음과 같습니다.\n",
      "\n",
      "1. 첫 번째 별: 왕  \n",
      "2. (문맥상 두 번째, 세 번째, 네 번째, 다섯 번째 별에 대한 직접적인 언급은 없으나, 별을 방문하며 여러 인물을 만난 것으로 보입니다.)\n",
      "3. (다섯 번째 별에 대한 언급은 없으나, 여섯 번째 별이 등장합니다.)\n",
      "4. 여섯 번째 별: 지리학자  \n",
      "5. (또한, 별을 소유하고 있다고 주장하는 장사꾼(사업가)도 만납니다.)\n",
      "\n",
      "정리하면, 문맥에서 명확히 언급된 인물은  \n",
      "- 첫 번째 별: 왕  \n",
      "- (별 번호는 명확하지 않으나) 장사꾼(사업가)  \n",
      "- 여섯 번째 별: 지리학자  \n",
      "\n",
      "이렇게 나열할 수 있습니다.\n",
      "\n",
      "Question2:\n",
      "주인공이 도착한 두 번째 별에선 누굴 만났고, 그사람한테 느낀 감정이 어땠어?\n",
      " \n",
      "Response2:\n",
      "주어진 문맥에는 어린 왕자가 첫 번째 별에서 왕을 만난 내용까지만 나와 있고, 두 번째 별에서 누구를 만났는지에 대한 직접적인 언급은 없습니다. 따라서 주인공이 두 번째 별에서 만난 인물과 그에 대한 감정은 잘 모르겠습니다.\n",
      "\n",
      "Question3:\n",
      "주인공이 별들에서 만난사람중 가장 싫어하는 인물은 누구라고 생각해?\n",
      " \n",
      "Response3:\n",
      "주어진 문맥을 보면, 어린 왕자가 별들에서 만난 여러 어른들 중에서 \"장사꾼\"에 대해 특히 만족스럽지 못하고, 그의 사고방식을 이해하지 못해 불만을 느끼는 장면이 나옵니다. 장사꾼은 별들을 소유하고 있다고 주장하며, 별들을 세고 종이에 적어두는 것에 집착합니다. 어린 왕자는 이런 장사꾼의 행동을 \"뚱딴지같다\"고 생각하고, \"어른들은 정말 다들 괴상해\"라고 속으로 말합니다.\n",
      "\n",
      "이러한 대화와 어린 왕자의 반응을 볼 때, 어린 왕자가 별들에서 만난 사람들 중 가장 싫어하는 인물은 \"장사꾼\"일 가능성이 높다고 생각합니다. 그는 장사꾼의 진지하지만 쓸모없어 보이는 행동과 사고방식에 대해 특히 비판적이고, 대화 후 그곳을 떠나게 됩니다. \n",
      "\n",
      "따라서, 어린 왕자가 별들에서 만난 사람 중 가장 싫어하는 인물은 \"장사꾼\"이라고 생각합니다.\n",
      "\n",
      "Question4:\n",
      "주인공이 두번째 별을 떠난 이유가 뭐라고 생각해?\n",
      " \n",
      "Response4:\n",
      "주인공인 어린 왕자가 두 번째 별(장사꾼이 사는 별)을 떠난 이유는, 장사꾼과의 대화에서 별을 소유한다는 것이 실제로는 아무런 유용함이나 의미가 없다는 것을 느꼈기 때문이라고 생각할 수 있습니다. 어린 왕자는 자신이 소유한 꽃이나 화산처럼 직접 돌보고 쓸모가 있는 것과 달리, 장사꾼이 별을 소유한다는 것은 단지 종이에 숫자를 적어두는 것에 불과하다고 여겼습니다. 이런 어른들의 사고방식이 진실되지 않고 이해할 수 없다고 느꼈기 때문에, 어린 왕자는 만족하지 못하고 그 별을 떠난 것으로 보입니다.\n"
     ]
    }
   ],
   "source": [
    "\n",
    "# Run Chain\n",
    "print(\"semantic chunk ver\")\n",
    "\n",
    "question1 = \"주인공이 각각의 별에서 만난사람들을 나열해줘\"\n",
    "response1 = chain.invoke(question1)\n",
    "print(f\"\\nQuestion1:\\n{question1}\\n\", \n",
    "      f\"\\nResponse1:\\n{response1}\")\n",
    "\n",
    "question2 = \"주인공이 도착한 두 번째 별에선 누굴 만났고, 그사람한테 느낀 감정이 어땠어?\"\n",
    "response2 = chain.invoke(question2)\n",
    "print(f\"\\nQuestion2:\\n{question2}\\n\",\n",
    "      f\"\\nResponse2:\\n{response2}\")\n",
    "\n",
    "question3 = \"주인공이 별들에서 만난사람중 가장 싫어하는 인물은 누구라고 생각해?\"\n",
    "response3 = chain.invoke(question3)\n",
    "print(f\"\\nQuestion3:\\n{question3}\\n\",\n",
    "      f\"\\nResponse3:\\n{response3}\")\n",
    "\n",
    "question4 = \"주인공이 두번째 별을 떠난 이유가 뭐라고 생각해?\"\n",
    "response4 = chain.invoke(question4)\n",
    "print(f\"\\nQuestion4:\\n{question4}\\n\",\n",
    "      f\"\\nResponse4:\\n{response4}\")"
   ]
  },
  {
   "cell_type": "markdown",
   "id": "11c5e1d6",
   "metadata": {},
   "source": [
    "## splitter semantic model = \"text-embedding-3-large\""
   ]
  },
  {
   "cell_type": "code",
   "execution_count": 344,
   "id": "73693ea3",
   "metadata": {},
   "outputs": [
    {
     "name": "stdout",
     "output_type": "stream",
     "text": [
      "semantic chunk ver\n",
      "\n",
      "Question1:\n",
      "주인공이 각각의 별에서 만난사람들을 나열해줘\n",
      " \n",
      "Response1:\n",
      "문맥에 따르면, 어린 왕자가 방문한 별들과 그곳에서 만난 사람들은 다음과 같습니다.\n",
      "\n",
      "1. 어린 왕자의 별(소행성 B 612): 어린 왕자 자신이 살고 있음.\n",
      "2. (별 번호는 명확히 나오지 않지만) 한 별에서는 \"성실한 사람\"을 만남. 어린 왕자는 그를 친구로 삼고 싶어 했으나, 별이 너무 작아 두 사람이 있을 공간이 없어서 떠나게 됨.\n",
      "3. 여섯 번째 별: 엄청 큰 책을 쓰고 있는 노신사(즉, 지리학자)를 만남.\n",
      "4. 일곱 번째 별(지구): 여러 종류의 사람들(111명의 왕, 7천 명의 지리학자, 90만 명의 장사꾼, 750만 명의 술꾼, 3억 1,100만 명의 허영심쟁이 등)을 만날 수 있는 곳임.  \n",
      "5. 또 다른 별에서는 상인을 만남.\n",
      "\n",
      "정리하면, 어린 왕자는 각 별에서 다음과 같은 사람들을 만났습니다:\n",
      "- 성실한 사람\n",
      "- 노신사(지리학자)\n",
      "- 상인\n",
      "- 지구에서는 왕, 지리학자, 장사꾼, 술꾼, 허영심쟁이 등 다양한 사람들\n",
      "\n",
      "문맥에 등장하지 않은 다른 별의 인물들은 잘 모르겠습니다.\n",
      "\n",
      "Question2:\n",
      "주인공이 도착한 두 번째 별에선 누굴 만났고, 그사람한테 느낀 감정이 어땠어?\n",
      " \n",
      "Response2:\n",
      "주어진 문맥에는 어린 왕자가 두 번째 별에서 만난 인물에 대한 직접적인 설명이 나오지 않습니다. 다만, 어린 왕자가 첫 번째 별에서는 왕을 만났고, 여섯 번째 별에서는 책을 쓰는 노신사를 만났다는 내용이 있습니다. 두 번째 별에 대한 구체적인 인물과 어린 왕자의 감정은 문맥에 나타나지 않으므로, 잘 모르겠습니다.\n",
      "\n",
      "Question3:\n",
      "주인공이 별들에서 만난사람중 가장 싫어하는 인물은 누구라고 생각해?\n",
      " \n",
      "Response3:\n",
      "주어진 문맥을 보면, 어린 왕자가 별들에서 만난 여러 인물 중 장사꾼(사업가)에 대해 만족스럽지 못한 대화를 나누고, 그의 행동에 대해 비판적인 시각을 보입니다. 장사꾼은 별들을 소유하려 하고, 별들을 세고 또 세는 것에만 집착하며, 어린 왕자가 보기에는 실질적인 의미나 따뜻함이 없는 행동을 하고 있습니다. 어린 왕자는 \"제게 목도리가 생기면, 그걸로 제 목을 감싸거나 추위를 막아줄 수 있어요.\"라고 말하며, 장사꾼의 별 소유가 실질적으로 아무 쓸모가 없음을 지적합니다.\n",
      "\n",
      "이러한 맥락에서 볼 때, 어린 왕자가 별들에서 만난 사람들 중 가장 싫어하는 인물은 장사꾼(사업가)일 가능성이 높다고 생각합니다. 그는 진지함만을 내세우며, 별들을 소유하는 것에만 집착하는 모습이 어린 왕자에게는 이해되지 않고, 마음에 들지 않았던 것으로 보입니다.\n",
      "\n",
      "Question4:\n",
      "주인공이 두번째 별을 떠난 이유가 뭐라고 생각해?\n",
      " \n",
      "Response4:\n",
      "문맥에 따르면, 어린 왕자가 두 번째 별(가로등과 불 키는 사람이 있는 별)을 떠난 이유는 그 별이 너무 작아서 두 사람이 함께 있을 공간조차 없었기 때문입니다. 또한, 어린 왕자는 그 불 키는 사람을 친구로 삼고 싶어 했지만, 별의 크기 때문에 어쩔 수 없이 떠나야 했다고 아쉬워합니다. 즉, 공간의 부족과 이별을 인정할 수밖에 없는 현실이 어린 왕자가 두 번째 별을 떠난 이유라고 볼 수 있습니다.\n"
     ]
    }
   ],
   "source": [
    "\n",
    "# Run Chain\n",
    "print(\"semantic chunk ver\")\n",
    "\n",
    "question1 = \"주인공이 각각의 별에서 만난사람들을 나열해줘\"\n",
    "response1 = chain.invoke(question1)\n",
    "print(f\"\\nQuestion1:\\n{question1}\\n\", \n",
    "      f\"\\nResponse1:\\n{response1}\")\n",
    "\n",
    "question2 = \"주인공이 도착한 두 번째 별에선 누굴 만났고, 그사람한테 느낀 감정이 어땠어?\"\n",
    "response2 = chain.invoke(question2)\n",
    "print(f\"\\nQuestion2:\\n{question2}\\n\",\n",
    "      f\"\\nResponse2:\\n{response2}\")\n",
    "\n",
    "question3 = \"주인공이 별들에서 만난사람중 가장 싫어하는 인물은 누구라고 생각해?\"\n",
    "response3 = chain.invoke(question3)\n",
    "print(f\"\\nQuestion3:\\n{question3}\\n\",\n",
    "      f\"\\nResponse3:\\n{response3}\")\n",
    "\n",
    "question4 = \"주인공이 두번째 별을 떠난 이유가 뭐라고 생각해?\"\n",
    "response4 = chain.invoke(question4)\n",
    "print(f\"\\nQuestion4:\\n{question4}\\n\",\n",
    "      f\"\\nResponse4:\\n{response4}\")"
   ]
  },
  {
   "cell_type": "markdown",
   "id": "9092616e",
   "metadata": {},
   "source": [
    "## semantic default model"
   ]
  },
  {
   "cell_type": "code",
   "execution_count": 342,
   "id": "e58fa835",
   "metadata": {},
   "outputs": [
    {
     "name": "stdout",
     "output_type": "stream",
     "text": [
      "semantic chunk ver\n",
      "\n",
      "Question1:\n",
      "주인공이 각각의 별에서 만난사람들을 나열해줘\n",
      " \n",
      "Response1:\n",
      "주어진 문맥을 바탕으로 어린 왕자가 각각의 별에서 만난 사람들을 나열하면 다음과 같습니다.\n",
      "\n",
      "- 첫 번째 별: 왕\n",
      "- 두 번째 별: 허영심 많은 사람(허영꾼)\n",
      "- 세 번째 별: 술꾼\n",
      "- 네 번째 별: 사업가(장사꾼)\n",
      "- 다섯 번째 별: 가로등 켜는 사람(가로등지기)\n",
      "- 여섯 번째 별: 엄청 큰 책을 쓰고 있는 노신사(지리학자)\n",
      "\n",
      "문맥에 직접적으로 언급된 인물은 위와 같으며, 각 별에서 만난 사람들의 특징도 일부 유추할 수 있습니다.\n",
      "\n",
      "Question2:\n",
      "주인공이 도착한 두 번째 별에선 누굴 만났고, 그사람한테 느낀 감정이 어땠어?\n",
      " \n",
      "Response2:\n",
      "주어진 문맥에는 어린 왕자가 첫 번째 별에서 왕을 만났다는 내용까지만 나와 있고, 두 번째 별에서 누구를 만났는지와 그에 대한 어린 왕자의 감정에 대한 직접적인 언급은 없습니다. 따라서 잘 모르겠습니다.\n",
      "\n",
      "Question3:\n",
      "주인공이 별들에서 만난사람중 가장 싫어하는 인물은 누구라고 생각해?\n",
      " \n",
      "Response3:\n",
      "주어진 문맥에서는 주인공(어린 왕자)이 별들에서 만난 사람들 중에서 가장 싫어하는 인물이 누구인지 직접적으로 언급하고 있지 않습니다. 하지만 문맥을 살펴보면, 어린 왕자가 별들을 소유하려고 하는 장사꾼(사업가)과의 대화에서 만족스럽지 못하다고 느끼고, 별들을 세고 또 세는 행위에 대해 이해하지 못하며 부정적인 반응을 보입니다. 장사꾼은 별들을 소유하고 장사하기 위해 별을 세는 사람으로, 어린 왕자가 중요하게 생각하는 가치(사랑, 우정, 의미 등)와는 거리가 먼 인물입니다.\n",
      "\n",
      "따라서 문맥상으로 유추해보면, 어린 왕자가 별들에서 만난 사람들 중 가장 싫어하는 인물은 별들을 소유하려는 장사꾼(사업가)일 가능성이 높다고 생각합니다.\n",
      "\n",
      "Question4:\n",
      "주인공이 두번째 별을 떠난 이유가 뭐라고 생각해?\n",
      " \n",
      "Response4:\n",
      "문맥에 따르면, 어린 왕자는 두 번째 별(즉, 어떤 별에서 만난 사람과의 이별)에 대해 \"내 친구로 삼고 싶은 유일한 분인데. 그치만 그의 별은 정말 너무도 작아. 두 사람이 있을 공간도 없어...\"라고 말합니다. 이로 보아, 어린 왕자가 두 번째 별을 떠난 이유는 그 별이 너무 작아서 두 사람이 함께 있을 수 없었기 때문이라고 생각할 수 있습니다. 공간의 제약 때문에 결국 이별을 선택한 것으로 보입니다.\n"
     ]
    }
   ],
   "source": [
    "\n",
    "# Run Chain\n",
    "print(\"semantic chunk ver\")\n",
    "\n",
    "question1 = \"주인공이 각각의 별에서 만난사람들을 나열해줘\"\n",
    "response1 = chain.invoke(question1)\n",
    "print(f\"\\nQuestion1:\\n{question1}\\n\", \n",
    "      f\"\\nResponse1:\\n{response1}\")\n",
    "\n",
    "question2 = \"주인공이 도착한 두 번째 별에선 누굴 만났고, 그사람한테 느낀 감정이 어땠어?\"\n",
    "response2 = chain.invoke(question2)\n",
    "print(f\"\\nQuestion2:\\n{question2}\\n\",\n",
    "      f\"\\nResponse2:\\n{response2}\")\n",
    "\n",
    "question3 = \"주인공이 별들에서 만난사람중 가장 싫어하는 인물은 누구라고 생각해?\"\n",
    "response3 = chain.invoke(question3)\n",
    "print(f\"\\nQuestion3:\\n{question3}\\n\",\n",
    "      f\"\\nResponse3:\\n{response3}\")\n",
    "\n",
    "question4 = \"주인공이 두번째 별을 떠난 이유가 뭐라고 생각해?\"\n",
    "response4 = chain.invoke(question4)\n",
    "print(f\"\\nQuestion4:\\n{question4}\\n\",\n",
    "      f\"\\nResponse4:\\n{response4}\")"
   ]
  },
  {
   "cell_type": "markdown",
   "id": "77c67dbc",
   "metadata": {},
   "source": [
    "## text split semantic model = \"text-embedding-3-large\", embedding model = \"text-embedding-3-large\""
   ]
  },
  {
   "cell_type": "code",
   "execution_count": 348,
   "id": "e1d4b586",
   "metadata": {},
   "outputs": [
    {
     "name": "stdout",
     "output_type": "stream",
     "text": [
      " text split semantic model = text-embedding-3-large embedding model = text-embedding-3-large\n",
      "\n",
      "Question1:\n",
      "주인공이 각각의 별에서 만난사람들을 나열해줘\n",
      " \n",
      "Response1:\n",
      "문맥에 따르면, 주인공(어린 왕자)이 각각의 별에서 만난 사람들은 다음과 같습니다.\n",
      "\n",
      "1. 첫 번째 별: 왕\n",
      "2. 두 번째 별: 허영심쟁이\n",
      "3. 세 번째 별: 술꾼\n",
      "4. 네 번째 별: 사업가(장사꾼)\n",
      "5. 다섯 번째 별: 잘 모르겠습니다 (문맥에 정보가 없습니다)\n",
      "6. 여섯 번째 별: 지리학자\n",
      "7. 일곱 번째 별: 지구(여러 인물들이 있지만, 구체적으로 누구를 만났는지는 문맥에 나오지 않습니다)\n",
      "\n",
      "이렇게 어린 왕자는 각 별에서 다양한 사람들을 만났습니다.\n",
      "\n",
      "Question2:\n",
      "주인공이 도착한 두 번째 별에선 누굴 만났고, 그사람한테 느낀 감정이 어땠어?\n",
      " \n",
      "Response2:\n",
      "주인공인 어린 왕자가 도착한 두 번째 별에는 허영심쟁이가 살고 있었어요. 문맥에 따르면, 두 번째 별에 사는 사람은 \"허영심쟁이\"라고만 짧게 언급되어 있고, 어린 왕자가 그 사람을 만났을 때 느낀 감정에 대한 직접적인 설명은 나오지 않습니다. 하지만 앞선 별(예: 왕, 장사꾼 등)에서 어린 왕자가 느꼈던 당황스러움이나 의문, 그리고 상대방의 행동을 보고 약간은 어이없어하거나 이해하지 못하는 태도를 보였던 점을 미루어 볼 때, 허영심쟁이를 만났을 때도 비슷하게 당황하거나 이해하지 못하는 감정을 느꼈을 것으로 유추할 수 있습니다. \n",
      "\n",
      "정리하자면, 두 번째 별에서는 허영심쟁이를 만났고, 어린 왕자는 아마도 그 사람의 허영심 많은 행동을 보고 당황하거나 이해하지 못했을 것이라고 생각됩니다.\n",
      "\n",
      "Question3:\n",
      "주인공이 별들에서 만난사람중 가장 싫어하는 인물은 누구라고 생각해?\n",
      " \n",
      "Response3:\n",
      "주어진 문맥을 보면, 어린 왕자가 별들에서 만난 사람들 중 장사꾼(사업가)에 대해 비판적인 시각을 가지고 있는 것을 알 수 있습니다. 장사꾼이 별들을 소유하려 하고, 그것을 부의 상징으로 여기는 모습에 대해 어린 왕자는 \"이 분도, 술꾼과 비슷하시군.\"이라고 속으로 말합니다. 또한, 다음 페이지에서는 \"아마 이 사람도 어리석을 거야. 하지만 왕이나 허영심쟁이나 장사꾼이나 술꾼보다 덜 하겠지.\"라고 언급하며, 장사꾼, 왕, 허영심쟁이, 술꾼 모두를 부정적으로 보고 있음을 알 수 있습니다.\n",
      "\n",
      "이러한 맥락에서 볼 때, 어린 왕자가 별들에서 만난 사람들 중 가장 싫어하는 인물은 장사꾼(사업가)일 가능성이 높다고 생각합니다. 그는 별들을 소유하려는 장사꾼의 태도를 이해하지 못하고, 그를 술꾼과 비슷하다고 생각하며, 어리석다고 여깁니다.\n",
      "\n",
      "Question4:\n",
      "주인공이 두번째 별을 떠난 이유가 뭐라고 생각해?\n",
      " \n",
      "Response4:\n",
      "문맥에 따르면, 어린 왕자는 두 번째 별에 사는 허영심쟁이와 친구가 되고 싶지 않았던 것으로 보입니다. 그리고 어린 왕자는 자신이 친구로 삼고 싶은 유일한 분(아마도 성실한 사람)을 떠날 때조차 별이 너무 작아서 두 사람이 함께 있을 수 없다는 점을 아쉬워합니다. 이런 점을 미루어 볼 때, 어린 왕자가 두 번째 별을 떠난 이유는 그곳에 사는 허영심쟁이와 진정한 친구가 될 수 없었기 때문이고, 자신이 원하는 관계나 공간이 그 별에는 없었기 때문이라고 생각할 수 있습니다.\n"
     ]
    }
   ],
   "source": [
    "\n",
    "# Run Chain\n",
    "print(\" text split semantic model = text-embedding-3-large, embedding model = text-embedding-3-large\")\n",
    "\n",
    "question1 = \"주인공이 각각의 별에서 만난사람들을 나열해줘\"\n",
    "response1 = chain.invoke(question1)\n",
    "print(f\"\\nQuestion1:\\n{question1}\\n\", \n",
    "      f\"\\nResponse1:\\n{response1}\")\n",
    "\n",
    "question2 = \"주인공이 도착한 두 번째 별에선 누굴 만났고, 그사람한테 느낀 감정이 어땠어?\"\n",
    "response2 = chain.invoke(question2)\n",
    "print(f\"\\nQuestion2:\\n{question2}\\n\",\n",
    "      f\"\\nResponse2:\\n{response2}\")\n",
    "\n",
    "question3 = \"주인공이 별들에서 만난사람중 가장 싫어하는 인물은 누구라고 생각해?\"\n",
    "response3 = chain.invoke(question3)\n",
    "print(f\"\\nQuestion3:\\n{question3}\\n\",\n",
    "      f\"\\nResponse3:\\n{response3}\")\n",
    "\n",
    "question4 = \"주인공이 두번째 별을 떠난 이유가 뭐라고 생각해?\"\n",
    "response4 = chain.invoke(question4)\n",
    "print(f\"\\nQuestion4:\\n{question4}\\n\",\n",
    "      f\"\\nResponse4:\\n{response4}\")"
   ]
  },
  {
   "cell_type": "code",
   "execution_count": null,
   "id": "d6c46f0a",
   "metadata": {},
   "outputs": [
    {
     "name": "stdout",
     "output_type": "stream",
     "text": [
      "주인공인 어린 왕자는 두 번째 별에서 허영심쟁이를 만났을 때 처음에는 그가 왕보다 더 재밌다고 생각해서 손뼉을 쳐주며 잠시 즐거워했지만, 곧 그 놀이가 무료해졌고, 허영심쟁이의 행동이 이해되지 않아 혼란스러워했어. 결국 어린 왕자는 \"어른들은 정말 별나다니깐.\"이라고 혼잣말을 하며 그곳을 떠났지. 즉, 처음엔 약간의 흥미와 호기심이 있었지만, 곧 지루함과 어른들에 대한 이상함, 실망 같은 감정을 느꼈다고 할 수 있어.\n"
     ]
    }
   ],
   "source": [
    "print (f\"\"\"\n",
    "       500이상 문장 갯수: {\n",
    "           len(\n",
    "               [i for i in split_documents if len(i.page_content) > 500]\n",
    "           )\n",
    "       }\"\"\")\n",
    "\n",
    "\n",
    "for doc in vectorstore.similarity_search(\"두번째별\", k=3):\n",
    "    print(doc.page_content, '\\nend!!!!!!')\n",
    "\n"
   ]
  },
  {
   "cell_type": "code",
   "execution_count": 294,
   "id": "4368e5cf",
   "metadata": {},
   "outputs": [],
   "source": [
    "# 단계 5: 검색기(Retriever) 생성. 고급\n",
    "\n",
    "from langchain.retrievers.multi_query import MultiQueryRetriever\n",
    "from langchain_openai import ChatOpenAI\n",
    "\n",
    "llm = ChatOpenAI(model_name=\"gpt-4.1-2025-04-14\", temperature=0)\n",
    "\n",
    "\n",
    "retriever_from_llm = MultiQueryRetriever.from_llm(\n",
    "    retriever=vectorstore.as_retriever(), llm=llm\n",
    ")"
   ]
  },
  {
   "cell_type": "code",
   "execution_count": null,
   "id": "8a2103d0",
   "metadata": {},
   "outputs": [
    {
     "name": "stderr",
     "output_type": "stream",
     "text": [
      "INFO:langchain.retrievers.multi_query:Generated queries: ['주인공이 별들에서 만난 사람들 중에서 가장 부정적으로 평가한 인물은 누구인가요?  ', '어린 왕자가 여러 별을 여행하며 만난 인물들 중에서 주인공이 가장 싫어한 사람은 누구일까요?  ', '주인공이 별을 여행하면서 만난 인물들 중에서 가장 반감을 느낀 대상은 누구라고 할 수 있나요?']\n"
     ]
    }
   ],
   "source": [
    "import logging\n",
    "\n",
    "logging.basicConfig()\n",
    "logging.getLogger(\"langchain.retrievers.multi_query\").setLevel(logging.INFO)\n",
    "\n",
    "unique_docs = retriever_from_llm.get_relevant_documents(query=question)\n"
   ]
  },
  {
   "cell_type": "code",
   "execution_count": 219,
   "id": "a4ae5238",
   "metadata": {},
   "outputs": [],
   "source": [
    "# 단계 8: 체인(Chain) 생성\n",
    "chain = (\n",
    "    {\"context\": retriever_from_llm, \"question\": RunnablePassthrough()}\n",
    "    | prompt\n",
    "    | llm\n",
    "    | StrOutputParser()\n",
    ")\n"
   ]
  },
  {
   "cell_type": "code",
   "execution_count": null,
   "id": "35cc57bf",
   "metadata": {},
   "outputs": [],
   "source": [
    "\n",
    "# 체인 실행(Run Chain)\n",
    "# 문서에 대한 질의를 입력하고, 답변을 출력합니다.\n",
    "question = \"주인공이 별들에서 만난사람중 가장 싫어하는 인물은 누구라고 생각해?\"\n",
    "response = chain.invoke(question)\n",
    "# print(response)\n",
    "# \n",
    "# "
   ]
  },
  {
   "cell_type": "code",
   "execution_count": 221,
   "id": "630ca924",
   "metadata": {},
   "outputs": [
    {
     "data": {
      "text/plain": [
       "'주어진 문맥을 보면, 어린 왕자가 별들에서 만난 여러 인물 중에서 \"장사꾼\"에 대해 특히 만족스럽지 못한 대화를 나누고, 그를 \"술꾼과 비슷하시군\"이라고 속으로 말하는 등 부정적인 감정을 드러냅니다. 장사꾼은 별들을 소유하려 하고, 그 이유도 단지 부자가 되기 위해서라고 말합니다. 어린 왕자는 이런 태도에 대해 이해하지 못하고, 별들을 소유한다는 개념 자체에 회의적입니다.\\n\\n따라서 문맥상 어린 왕자가 별들에서 만난 사람들 중 가장 싫어하는 인물은 \"장사꾼\"이라고 생각할 수 있습니다.'"
      ]
     },
     "execution_count": 221,
     "metadata": {},
     "output_type": "execute_result"
    }
   ],
   "source": [
    "\n",
    "response"
   ]
  },
  {
   "cell_type": "code",
   "execution_count": null,
   "id": "6bc4e864",
   "metadata": {},
   "outputs": [],
   "source": []
  },
  {
   "cell_type": "markdown",
   "id": "f8444e43",
   "metadata": {},
   "source": [
    "## 전체 코드"
   ]
  },
  {
   "cell_type": "code",
   "execution_count": null,
   "id": "adc45dbf",
   "metadata": {},
   "outputs": [
    {
     "ename": "ValueError",
     "evalue": "File path data/SPRI_AI_Brief_2023년12월호_F.pdf is not a valid file or url",
     "output_type": "error",
     "traceback": [
      "\u001b[31m---------------------------------------------------------------------------\u001b[39m",
      "\u001b[31mValueError\u001b[39m                                Traceback (most recent call last)",
      "\u001b[36mCell\u001b[39m\u001b[36m \u001b[39m\u001b[32mIn[18]\u001b[39m\u001b[32m, line 10\u001b[39m\n\u001b[32m      7\u001b[39m \u001b[38;5;28;01mfrom\u001b[39;00m\u001b[38;5;250m \u001b[39m\u001b[34;01mlangchain_openai\u001b[39;00m\u001b[38;5;250m \u001b[39m\u001b[38;5;28;01mimport\u001b[39;00m ChatOpenAI, OpenAIEmbeddings\n\u001b[32m      9\u001b[39m \u001b[38;5;66;03m# 단계 1: 문서 로드(Load Documents)\u001b[39;00m\n\u001b[32m---> \u001b[39m\u001b[32m10\u001b[39m loader = \u001b[43mPyMuPDFLoader\u001b[49m\u001b[43m(\u001b[49m\u001b[33;43m\"\u001b[39;49m\u001b[33;43mdata/SPRI_AI_Brief_2023년12월호_F.pdf\u001b[39;49m\u001b[33;43m\"\u001b[39;49m\u001b[43m)\u001b[49m\n\u001b[32m     11\u001b[39m docs = loader.load()\n\u001b[32m     13\u001b[39m \u001b[38;5;66;03m# 단계 2: 문서 분할(Split Documents)\u001b[39;00m\n",
      "\u001b[36mFile \u001b[39m\u001b[32m~/Documents/GitHub/langchain-kr/.venv/lib/python3.11/site-packages/langchain_community/document_loaders/pdf.py:828\u001b[39m, in \u001b[36mPyMuPDFLoader.__init__\u001b[39m\u001b[34m(self, file_path, password, mode, pages_delimiter, extract_images, images_parser, images_inner_format, extract_tables, headers, extract_tables_settings, **kwargs)\u001b[39m\n\u001b[32m    826\u001b[39m \u001b[38;5;28;01mif\u001b[39;00m mode \u001b[38;5;129;01mnot\u001b[39;00m \u001b[38;5;129;01min\u001b[39;00m [\u001b[33m\"\u001b[39m\u001b[33msingle\u001b[39m\u001b[33m\"\u001b[39m, \u001b[33m\"\u001b[39m\u001b[33mpage\u001b[39m\u001b[33m\"\u001b[39m]:\n\u001b[32m    827\u001b[39m     \u001b[38;5;28;01mraise\u001b[39;00m \u001b[38;5;167;01mValueError\u001b[39;00m(\u001b[33m\"\u001b[39m\u001b[33mmode must be single or page\u001b[39m\u001b[33m\"\u001b[39m)\n\u001b[32m--> \u001b[39m\u001b[32m828\u001b[39m \u001b[38;5;28;43msuper\u001b[39;49m\u001b[43m(\u001b[49m\u001b[43m)\u001b[49m\u001b[43m.\u001b[49m\u001b[34;43m__init__\u001b[39;49m\u001b[43m(\u001b[49m\u001b[43mfile_path\u001b[49m\u001b[43m,\u001b[49m\u001b[43m \u001b[49m\u001b[43mheaders\u001b[49m\u001b[43m=\u001b[49m\u001b[43mheaders\u001b[49m\u001b[43m)\u001b[49m\n\u001b[32m    829\u001b[39m \u001b[38;5;28mself\u001b[39m.parser = PyMuPDFParser(\n\u001b[32m    830\u001b[39m     password=password,\n\u001b[32m    831\u001b[39m     mode=mode,\n\u001b[32m   (...)\u001b[39m\u001b[32m    838\u001b[39m     extract_tables_settings=extract_tables_settings,\n\u001b[32m    839\u001b[39m )\n",
      "\u001b[36mFile \u001b[39m\u001b[32m~/Documents/GitHub/langchain-kr/.venv/lib/python3.11/site-packages/langchain_community/document_loaders/pdf.py:140\u001b[39m, in \u001b[36mBasePDFLoader.__init__\u001b[39m\u001b[34m(self, file_path, headers)\u001b[39m\n\u001b[32m    138\u001b[39m         \u001b[38;5;28mself\u001b[39m.file_path = \u001b[38;5;28mstr\u001b[39m(temp_pdf)\n\u001b[32m    139\u001b[39m \u001b[38;5;28;01melif\u001b[39;00m \u001b[38;5;129;01mnot\u001b[39;00m os.path.isfile(\u001b[38;5;28mself\u001b[39m.file_path):\n\u001b[32m--> \u001b[39m\u001b[32m140\u001b[39m     \u001b[38;5;28;01mraise\u001b[39;00m \u001b[38;5;167;01mValueError\u001b[39;00m(\u001b[33m\"\u001b[39m\u001b[33mFile path \u001b[39m\u001b[38;5;132;01m%s\u001b[39;00m\u001b[33m is not a valid file or url\u001b[39m\u001b[33m\"\u001b[39m % \u001b[38;5;28mself\u001b[39m.file_path)\n",
      "\u001b[31mValueError\u001b[39m: File path data/SPRI_AI_Brief_2023년12월호_F.pdf is not a valid file or url"
     ]
    }
   ],
   "source": [
    "from langchain_text_splitters import RecursiveCharacterTextSplitter\n",
    "from langchain_community.document_loaders import PyMuPDFLoader\n",
    "from langchain_community.vectorstores import FAISS\n",
    "from langchain_core.output_parsers import StrOutputParser\n",
    "from langchain_core.runnables import RunnablePassthrough\n",
    "from langchain_core.prompts import PromptTemplate\n",
    "from langchain_openai import ChatOpenAI, OpenAIEmbeddings\n",
    "\n",
    "# 단계 1: 문서 로드(Load Documents)\n",
    "loader = PyMuPDFLoader(\"data/le_Petit_Prince.pdf\")\n",
    "docs = loader.load()\n",
    "\n",
    "# 단계 2: 문서 분할(Split Documents)\n",
    "text_splitter = RecursiveCharacterTextSplitter(chunk_size=1000, chunk_overlap=50)\n",
    "split_documents = text_splitter.split_documents(docs)\n",
    "\n",
    "# 단계 3: 임베딩(Embedding) 생성\n",
    "embeddings = OpenAIEmbeddings()\n",
    "\n",
    "# 단계 4: DB 생성(Create DB) 및 저장\n",
    "# 벡터스토어를 생성합니다.\n",
    "vectorstore = FAISS.from_documents(documents=split_documents, embedding=embeddings)\n",
    "\n",
    "# 단계 5: 검색기(Retriever) 생성\n",
    "# 문서에 포함되어 있는 정보를 검색하고 생성합니다.\n",
    "retriever = vectorstore.as_retriever()\n",
    "\n",
    "# 단계 6: 프롬프트 생성(Create Prompt)\n",
    "# 프롬프트를 생성합니다.\n",
    "prompt = PromptTemplate.from_template(\n",
    "    \"\"\"You are an assistant for question-answering tasks. \n",
    "Use the following pieces of retrieved context to answer the question. \n",
    "If you don't know the answer, just say that you don't know. \n",
    "Answer in Korean.\n",
    "\n",
    "#Context: \n",
    "{context}\n",
    "\n",
    "#Question:\n",
    "{question}\n",
    "\n",
    "#Answer:\"\"\"\n",
    ")\n",
    "\n",
    "# 단계 7: 언어모델(LLM) 생성\n",
    "# 모델(LLM) 을 생성합니다.\n",
    "llm = ChatOpenAI(model_name=\"gpt-4.1-mini\", temperature=0)\n",
    "\n",
    "# 단계 8: 체인(Chain) 생성\n",
    "chain = (\n",
    "    {\"context\": retriever, \"question\": RunnablePassthrough()}\n",
    "    | prompt\n",
    "    | llm\n",
    "    | StrOutputParser()\n",
    ")"
   ]
  },
  {
   "cell_type": "code",
   "execution_count": null,
   "id": "c5986cab",
   "metadata": {},
   "outputs": [],
   "source": [
    "# 체인 실행(Run Chain)\n",
    "# 문서에 대한 질의를 입력하고, 답변을 출력합니다.\n",
    "question = \"삼성전자가 자체 개발한 AI 의 이름은?\"\n",
    "response = chain.invoke(question)\n",
    "print(response)"
   ]
  }
 ],
 "metadata": {
  "kernelspec": {
   "display_name": ".venv",
   "language": "python",
   "name": "python3"
  },
  "language_info": {
   "codemirror_mode": {
    "name": "ipython",
    "version": 3
   },
   "file_extension": ".py",
   "mimetype": "text/x-python",
   "name": "python",
   "nbconvert_exporter": "python",
   "pygments_lexer": "ipython3",
   "version": "3.11.13"
  }
 },
 "nbformat": 4,
 "nbformat_minor": 5
}
